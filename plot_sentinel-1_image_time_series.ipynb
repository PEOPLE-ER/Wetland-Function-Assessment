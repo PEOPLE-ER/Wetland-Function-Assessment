{
 "cells": [
  {
   "attachments": {},
   "cell_type": "markdown",
   "metadata": {},
   "source": [
    "Note Description:\n",
    "\n",
    "Create Sentinel-1 image time series with False color.\n",
    "\n",
    "Convert distribution and remove outliers of values."
   ]
  },
  {
   "cell_type": "code",
   "execution_count": 1,
   "metadata": {},
   "outputs": [
    {
     "name": "stderr",
     "output_type": "stream",
     "text": [
      "Matplotlib created a temporary config/cache directory at /tmp/matplotlib-cw3jzcg3 because the default path (/home/users/vtang/.config/matplotlib) is not a writable directory; it is highly recommended to set the MPLCONFIGDIR environment variable to a writable directory, in particular to speed up the import of Matplotlib and to better support multiprocessing.\n"
     ]
    }
   ],
   "source": [
    "import numpy as np\n",
    "import pandas as pd\n",
    "import matplotlib.pyplot as plt\n",
    "\n",
    "import glob\n",
    "from tqdm.notebook import tqdm\n",
    "\n",
    "import xarray as xr\n",
    "import rioxarray as rxr\n",
    "\n",
    "import xrspatial.multispectral as ms\n",
    "\n",
    "share_folder = '/geoanalytics_user_shared_data/vtang/PEOPLE-ER_Vietnam/'"
   ]
  },
  {
   "cell_type": "code",
   "execution_count": 2,
   "metadata": {},
   "outputs": [],
   "source": [
    "def normalize(val, lower=.1, upper=99.9):\n",
    "    vmin = np.nanpercentile(val, lower)\n",
    "    vmax = np.nanpercentile(val, upper)\n",
    "    val2 = val.copy()\n",
    "    val2[val2 < vmin] = vmin\n",
    "    val2[val2 > vmax] = vmax\n",
    "    val2 = (val2 - vmin) / (vmax - vmin)\n",
    "    return val2"
   ]
  },
  {
   "cell_type": "code",
   "execution_count": 7,
   "metadata": {},
   "outputs": [],
   "source": [
    "target_year = 2021\n",
    "\n",
    "fpath_list = glob.glob(\n",
    "    share_folder + 'sentinel-1/{}/10d_composition/*.tif'.format(target_year))\n",
    "# n = len(fpath_list)\n",
    "n = 36"
   ]
  },
  {
   "cell_type": "code",
   "execution_count": 8,
   "metadata": {},
   "outputs": [
    {
     "data": {
      "application/vnd.jupyter.widget-view+json": {
       "model_id": "5f9a490a789748f6bfdcbda80f7b2d6a",
       "version_major": 2,
       "version_minor": 0
      },
      "text/plain": [
       "  0%|          | 0/37 [00:00<?, ?it/s]"
      ]
     },
     "metadata": {},
     "output_type": "display_data"
    }
   ],
   "source": [
    "fig, axes = plt.subplots(6, 6, figsize=[40, 40])\n",
    "axes = axes.ravel()\n",
    "\n",
    "for fpath in tqdm(fpath_list):\n",
    "\n",
    "    i = int(fpath.split('_')[-1].split('.')[0])\n",
    "\n",
    "    da = rxr.open_rasterio(fpath).assign_coords(band=['vh', 'vv'])\n",
    "\n",
    "    vv = da.sel(band='vv')\n",
    "    vh = da.sel(band='vh')\n",
    "    rvh = vv / vh\n",
    "    \n",
    "    vv.values = normalize(vv.values, 1, 99)\n",
    "    vh.values = normalize(vh.values, 1, 99)\n",
    "    rvh.values = normalize(rvh.values, 1, 99)\n",
    "\n",
    "    img_tc = ms.true_color(r=vv, g=vh, b=rvh, nodata=np.nan,)\n",
    "    \n",
    "    ax = axes[i - 1]\n",
    "    img_tc.plot.imshow(ax=ax)\n",
    "    ax.set_title('Period {}'.format(i), fontsize=24, fontweight='bold')\n",
    "    ax.set_axis_off()"
   ]
  },
  {
   "cell_type": "code",
   "execution_count": null,
   "metadata": {},
   "outputs": [],
   "source": [
    "fig.suptitle(\n",
    "    '{} Sentinel-1 False Color (VV:VH:VV/VH)'.format(target_year),\n",
    "    fontsize=48, fontweight='bold', y=1.02,\n",
    ")\n",
    "fig.tight_layout()"
   ]
  },
  {
   "cell_type": "code",
   "execution_count": 12,
   "metadata": {},
   "outputs": [],
   "source": []
  },
  {
   "cell_type": "code",
   "execution_count": null,
   "metadata": {},
   "outputs": [],
   "source": []
  }
 ],
 "metadata": {
  "kernelspec": {
   "display_name": "Python 3 (ipykernel)",
   "language": "python",
   "name": "python3"
  },
  "language_info": {
   "codemirror_mode": {
    "name": "ipython",
    "version": 3
   },
   "file_extension": ".py",
   "mimetype": "text/x-python",
   "name": "python",
   "nbconvert_exporter": "python",
   "pygments_lexer": "ipython3",
   "version": "3.9.12"
  },
  "vscode": {
   "interpreter": {
    "hash": "80ea545c89f4740f2190761fe3f09035380c8ff11000f9cb62822d0fef0270af"
   }
  }
 },
 "nbformat": 4,
 "nbformat_minor": 4
}
